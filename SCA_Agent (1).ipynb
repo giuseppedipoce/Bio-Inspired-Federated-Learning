{
  "cells": [
    {
      "cell_type": "code",
      "execution_count": 5,
      "metadata": {
        "id": "mqn6fiX3lMmX"
      },
      "outputs": [],
      "source": [
        "import networkx as nx\n",
        "import matplotlib.pyplot as plt\n",
        "import numpy as np\n",
        "import torch\n",
        "from torch.utils.data import random_split\n",
        "import random\n",
        "import torch.nn as nn\n",
        "import torch.optim as optim\n",
        "import torchvision\n",
        "import torchvision.transforms as transforms\n",
        "from torch.utils.data import Dataset, DataLoader, Subset\n",
        "import torch.nn.functional as F\n",
        "import torch.nn.init as init\n",
        "import itertools\n",
        "import copy\n",
        "from tqdm import tqdm\n",
        "import statistics"
      ]
    },
    {
      "cell_type": "markdown",
      "metadata": {
        "id": "9aOIoKi7mjCG"
      },
      "source": [
        "# Load data and split in the multi agent system"
      ]
    },
    {
      "cell_type": "code",
      "execution_count": 1,
      "metadata": {
        "colab": {
          "base_uri": "https://localhost:8080/",
          "height": 402
        },
        "id": "XhLZzr4rhUAP",
        "outputId": "bd1479ec-62ba-4cf2-a9e9-a59ba7ad2984"
      },
      "outputs": [
        {
          "ename": "NameError",
          "evalue": "name 'transforms' is not defined",
          "output_type": "error",
          "traceback": [
            "\u001b[1;31m---------------------------------------------------------------------------\u001b[0m",
            "\u001b[1;31mNameError\u001b[0m                                 Traceback (most recent call last)",
            "Cell \u001b[1;32mIn[1], line 86\u001b[0m\n\u001b[0;32m     82\u001b[0m test_batch_size \u001b[38;5;241m=\u001b[39m \u001b[38;5;241m64\u001b[39m\n\u001b[0;32m     83\u001b[0m \u001b[38;5;66;03m#alpha = 0.80 # Dirichlet distribution parameter\u001b[39;00m\n\u001b[0;32m     84\u001b[0m \n\u001b[0;32m     85\u001b[0m \u001b[38;5;66;03m# Load and preprocess CIFAR-10 dataset\u001b[39;00m\n\u001b[1;32m---> 86\u001b[0m train_dataset, test_dataset \u001b[38;5;241m=\u001b[39m \u001b[43mload_mnist\u001b[49m\u001b[43m(\u001b[49m\u001b[43m)\u001b[49m\n\u001b[0;32m     88\u001b[0m \u001b[38;5;66;03m# Split train dataset into train and validation sets\u001b[39;00m\n\u001b[0;32m     89\u001b[0m train_size \u001b[38;5;241m=\u001b[39m \u001b[38;5;28mint\u001b[39m(\u001b[38;5;241m0.8\u001b[39m \u001b[38;5;241m*\u001b[39m \u001b[38;5;28mlen\u001b[39m(train_dataset))\n",
            "Cell \u001b[1;32mIn[1], line 2\u001b[0m, in \u001b[0;36mload_mnist\u001b[1;34m(train_subset_size, test_subset_size)\u001b[0m\n\u001b[0;32m      1\u001b[0m \u001b[38;5;28;01mdef\u001b[39;00m \u001b[38;5;21mload_mnist\u001b[39m(train_subset_size\u001b[38;5;241m=\u001b[39m\u001b[38;5;241m15000\u001b[39m, test_subset_size\u001b[38;5;241m=\u001b[39m\u001b[38;5;241m1500\u001b[39m):\n\u001b[1;32m----> 2\u001b[0m     transform \u001b[38;5;241m=\u001b[39m \u001b[43mtransforms\u001b[49m\u001b[38;5;241m.\u001b[39mCompose([\n\u001b[0;32m      3\u001b[0m         transforms\u001b[38;5;241m.\u001b[39mToTensor(),\n\u001b[0;32m      4\u001b[0m         transforms\u001b[38;5;241m.\u001b[39mNormalize((\u001b[38;5;241m0.5\u001b[39m,), (\u001b[38;5;241m0.5\u001b[39m,))\n\u001b[0;32m      5\u001b[0m     ])\n\u001b[0;32m      7\u001b[0m     \u001b[38;5;66;03m# Load the full datasets\u001b[39;00m\n\u001b[0;32m      8\u001b[0m     train_dataset \u001b[38;5;241m=\u001b[39m torchvision\u001b[38;5;241m.\u001b[39mdatasets\u001b[38;5;241m.\u001b[39mMNIST(root\u001b[38;5;241m=\u001b[39m\u001b[38;5;124m'\u001b[39m\u001b[38;5;124m./data\u001b[39m\u001b[38;5;124m'\u001b[39m, train\u001b[38;5;241m=\u001b[39m\u001b[38;5;28;01mTrue\u001b[39;00m, download\u001b[38;5;241m=\u001b[39m\u001b[38;5;28;01mTrue\u001b[39;00m, transform\u001b[38;5;241m=\u001b[39mtransform)\n",
            "\u001b[1;31mNameError\u001b[0m: name 'transforms' is not defined"
          ]
        }
      ],
      "source": [
        "\n",
        "def load_mnist(train_subset_size=15000, test_subset_size=1500):\n",
        "    transform = transforms.Compose([\n",
        "        transforms.ToTensor(),\n",
        "        transforms.Normalize((0.5,), (0.5,))\n",
        "    ])\n",
        "\n",
        "    # Load the full datasets\n",
        "    train_dataset = torchvision.datasets.MNIST(root='./data', train=True, download=True, transform=transform)\n",
        "    test_dataset = torchvision.datasets.MNIST(root='./data', train=False, download=True, transform=transform)\n",
        "\n",
        "    # Get the subset of indices\n",
        "    train_indices = np.random.choice(len(train_dataset), train_subset_size, replace=False)\n",
        "    test_indices = np.random.choice(len(test_dataset), test_subset_size, replace=False)\n",
        "\n",
        "    # Create subsets\n",
        "    train_subset = Subset(train_dataset, train_indices)\n",
        "    test_subset = Subset(test_dataset, test_indices)\n",
        "\n",
        "    return train_subset, test_subset\n",
        "\n",
        "# def load_mnist():\n",
        "#     transform = transforms.Compose(\n",
        "#         [transforms.ToTensor(),\n",
        "#          transforms.Normalize((0.5), (0.5))])\n",
        "\n",
        "#     train_dataset = torchvision.datasets.MNIST(root='./data', train=True,\n",
        "#                                                  download=True, transform=transform)\n",
        "#     test_dataset = torchvision.datasets.MNIST(root='./data', train=False,\n",
        "#                                                 download=True, transform=transform)\n",
        "#     return train_dataset, test_dataset\n",
        "\n",
        "def split_dataset_heterogeneously(dataset, num_agents, alpha=0.8):\n",
        "    np.random.seed(42)\n",
        "    num_samples = len(dataset)\n",
        "    indices = np.random.permutation(num_samples)\n",
        "    # Generate Dirichlet distribution for each agent\n",
        "    proportions = np.random.dirichlet(np.repeat(alpha, num_agents), size=1)[0]\n",
        "    # Calculate the number of samples for each agent\n",
        "    agent_sizes = (proportions * num_samples).astype(int)\n",
        "    # Adjust to ensure all samples are allocated\n",
        "    agent_sizes[-1] = num_samples - np.sum(agent_sizes[:-1])\n",
        "\n",
        "    agent_splits = []\n",
        "    start_idx = 0\n",
        "    for size in agent_sizes:\n",
        "        end_idx = start_idx + size\n",
        "        agent_indices = indices[start_idx:end_idx]\n",
        "        agent_subset = Subset(dataset, agent_indices.tolist())\n",
        "        agent_splits.append(agent_subset)\n",
        "        start_idx = end_idx\n",
        "\n",
        "    return agent_splits, proportions\n",
        "\n",
        "def create_dataloaders(train_splits, val_splits, test_set, batch_size=32, test_batch_size=32):\n",
        "    train_loaders = []\n",
        "    val_loaders = []\n",
        "    test_loader = DataLoader(test_set, batch_size=test_batch_size, shuffle=False)\n",
        "\n",
        "    for train_data, val_data in zip(train_splits, val_splits):\n",
        "        train_loader = DataLoader(train_data, batch_size=batch_size, shuffle=True)\n",
        "        val_loader = DataLoader(val_data, batch_size=batch_size, shuffle=False)\n",
        "        train_loaders.append(train_loader)\n",
        "        val_loaders.append(val_loader)\n",
        "\n",
        "    return train_loaders, val_loaders, test_loader\n",
        "\n",
        "def imshow(img):\n",
        "    img = img / 2 + 0.5  # unnormalize if necessary\n",
        "    npimg = img.numpy()\n",
        "\n",
        "    # Check if the image has 1 channel (grayscale)\n",
        "    if npimg.shape[0] == 1:\n",
        "        plt.imshow(npimg[0], cmap='gray')\n",
        "    else:\n",
        "        plt.imshow(np.transpose(npimg, (1, 2, 0)))\n",
        "\n",
        "    plt.show()\n",
        "\n",
        "# Parameters\n",
        "num_agents = 10\n",
        "batch_size = 32\n",
        "test_batch_size = 64\n",
        "#alpha = 0.80 # Dirichlet distribution parameter\n",
        "\n",
        "# Load and preprocess CIFAR-10 dataset\n",
        "train_dataset, test_dataset = load_mnist()\n",
        "\n",
        "# Split train dataset into train and validation sets\n",
        "train_size = int(0.8 * len(train_dataset))\n",
        "val_size = len(train_dataset) - train_size\n",
        "train_dataset, val_dataset = random_split(train_dataset, [train_size, val_size])\n",
        "\n",
        "# Split train and validation sets heterogeneously among agents\n",
        "train_splits, train_proportions = split_dataset_heterogeneously(train_dataset, num_agents)\n",
        "val_splits, val_proportions = split_dataset_heterogeneously(val_dataset, num_agents)\n",
        "\n",
        "# Create dataloaders for each agent\n",
        "train_loaders, val_loaders, test_loader = create_dataloaders(train_splits, val_splits, test_dataset, batch_size, test_batch_size)\n",
        "\n",
        "# Print and plot the first batch of the first agent\n",
        "dataiter = iter(train_loaders[0])\n",
        "images, labels = dataiter.__next__()\n",
        "print(\"First batch of the first agent:\")\n",
        "print(f\"  Images shape: {images.shape}\")\n",
        "print(f\"  Labels: {labels}\")\n",
        "\n",
        "# Plot the images\n",
        "imshow(torchvision.utils.make_grid(images))\n",
        "# Verify the size of the test loader\n",
        "print(f\"Test loader batch size: {test_loader.batch_size}\")"
      ]
    },
    {
      "cell_type": "code",
      "execution_count": 3,
      "metadata": {
        "colab": {
          "base_uri": "https://localhost:8080/"
        },
        "id": "1I58K5F3-0-Q",
        "outputId": "90ca9938-63d2-4fc8-c29d-f19095cca09d"
      },
      "outputs": [
        {
          "name": "stdout",
          "output_type": "stream",
          "text": [
            "695\n",
            "19\n",
            "915\n",
            "261\n",
            "1743\n",
            "204\n",
            "160\n",
            "2531\n",
            "886\n",
            "586\n"
          ]
        }
      ],
      "source": [
        "for i in range(num_agents):\n",
        "  print(len(train_loaders[i].dataset))"
      ]
    },
    {
      "cell_type": "markdown",
      "metadata": {
        "id": "lPhJ_wwumW3S"
      },
      "source": [
        "# Create Graph Topology"
      ]
    },
    {
      "cell_type": "code",
      "execution_count": 4,
      "metadata": {
        "colab": {
          "base_uri": "https://localhost:8080/",
          "height": 0
        },
        "id": "d29ny345k-jF",
        "outputId": "365d8ad2-9f5c-4b36-97e8-e4b7b796e78f"
      },
      "outputs": [
        {
          "data": {
            "image/png": "[encoded data removed]",
            "text/plain": [
              "<Figure size 800x600 with 1 Axes>"
            ]
          },
          "metadata": {},
          "output_type": "display_data"
        }
      ],
      "source": [
        "def genera_grafo_connesso(tipo_grafo, num_nodi, prob=None, m=None):\n",
        "    while True:\n",
        "        if tipo_grafo == 'erdos':\n",
        "            if prob is None:\n",
        "                raise ValueError(\"Per un grafo di Erdos-Renyi, specificare la probabilità 'prob'\")\n",
        "            G = nx.erdos_renyi_graph(num_nodi, prob)\n",
        "        elif tipo_grafo == 'scale_free':\n",
        "            if m is None:\n",
        "                raise ValueError(\"Per un grafo scale-free, specificare il numero di archi 'm'\")\n",
        "            G = nx.barabasi_albert_graph(num_nodi, m)\n",
        "        else:\n",
        "            raise ValueError(\"Tipo di grafo non supportato. Scegliere tra 'erdos_renyi' o 'scale_free'\")\n",
        "\n",
        "        # Controlla se il grafo è connesso\n",
        "        if nx.is_connected(G):\n",
        "            break\n",
        "\n",
        "    adj_matrix = nx.adjacency_matrix(G).todense()\n",
        "    laplacian_matrix = nx.laplacian_matrix(G).todense()\n",
        "\n",
        "    plt.figure(figsize=(8, 6))\n",
        "    nx.draw(G, with_labels=True, node_color='skyblue', node_size=500, edge_color='gray')\n",
        "    plt.title(f\"Graph {tipo_grafo.replace('_', ' ').title()}\")\n",
        "    plt.show()\n",
        "    return adj_matrix, laplacian_matrix, G\n",
        "\n",
        "type_g = 'erdos'\n",
        "p = 0.25\n",
        "Adj_matrix, L, G = genera_grafo_connesso(type_g, num_agents, prob=p)\n",
        "# print(\"Matrice di adiacenza:\\n\", A)\n",
        "# print(\"Laplaciano:\\n\", L"
      ]
    },
    {
      "cell_type": "markdown",
      "metadata": {
        "id": "uw-TwGISqiMr"
      },
      "source": [
        "# Define learning function at the edge of the network"
      ]
    },
    {
      "cell_type": "code",
      "execution_count": 15,
      "metadata": {
        "id": "UC-9VMhqqiWr"
      },
      "outputs": [],
      "source": [
        "# class LeNet(nn.Module):\n",
        "#     def __init__(self, input_channels=1, num_classes=10):\n",
        "#         super(Net, self).__init__()\n",
        "\n",
        "#         # Set the seed for reproducibility\n",
        "#         #torch.manual_seed(0)\n",
        "\n",
        "#         self.conv1 = nn.Conv2d(input_channels, 6, kernel_size=5)\n",
        "#         self.conv2 = nn.Conv2d(6, 16, kernel_size=5)\n",
        "#         self.fc1 = nn.Linear(16 * 4 * 4, 120)\n",
        "#         self.fc2 = nn.Linear(120, 84)\n",
        "#         self.fc3 = nn.Linear(84, num_classes)\n",
        "\n",
        "#         # Initialize weights\n",
        "#         self._initialize_weights()\n",
        "\n",
        "#     def forward(self, x):\n",
        "#         x = F.relu(self.conv1(x))\n",
        "#         x = F.max_pool2d(x, 2)\n",
        "#         x = F.relu(self.conv2(x))\n",
        "#         x = F.max_pool2d(x, 2)\n",
        "#         x = x.view(-1, 16 * 4 * 4)  # Flatten the tensor\n",
        "#         x = F.relu(self.fc1(x)) #hyperbolic\n",
        "#         x = F.relu(self.fc2(x))\n",
        "#         x = self.fc3(x)\n",
        "#         return x\n",
        "\n",
        "#     def _initialize_weights(self):\n",
        "#         for m in self.modules():\n",
        "#             if isinstance(m, nn.Conv2d) or isinstance(m, nn.Linear):\n",
        "#                 init.xavier_normal_(m.weight)\n",
        "#                 if m.bias is not None:\n",
        "#                     init.constant_(m.bias, 0)\n",
        "\n",
        "class Net(nn.Module):\n",
        "    def __init__(self, input_channels=1, num_classes=10, randomness=False):\n",
        "        super(Net, self).__init__()\n",
        "        # if randomness==False:\n",
        "        #torch.manual_seed(42)\n",
        "\n",
        "        self.conv1 = nn.Conv2d(input_channels, 8, kernel_size=5)\n",
        "        self.fc1 = nn.Linear(8 * 24 * 24, 32)  # Adjust input size for fully connected layer\n",
        "        self.fc2 = nn.Linear(32, num_classes)\n",
        "\n",
        "        # Initialize weights\n",
        "        self._initialize_weights()\n",
        "\n",
        "    def forward(self, x):\n",
        "        x = F.gelu(self.conv1(x))  # Using GELU activation function\n",
        "        x = x.view(-1, 8 * 24 * 24)\n",
        "        x = F.gelu(self.fc1(x))\n",
        "        x = self.fc2(x)            # Output layer\n",
        "        return x\n",
        "\n",
        "    def _initialize_weights(self):\n",
        "        for m in self.modules():\n",
        "            if isinstance(m, nn.Conv2d) or isinstance(m, nn.Linear):\n",
        "                init.xavier_normal_(m.weight)\n",
        "                if m.bias is not None:\n",
        "                    init.constant_(m.bias, 0)\n"
      ]
    },
    {
      "cell_type": "markdown",
      "metadata": {
        "id": "1pQyqtVUpjOK"
      },
      "source": [
        "# Define Successive Convex Approximation routine:\n",
        "$$ min_x U(x) = F(x)+G(x) \\\\\n",
        "U_i(x) = f_i(\\omega_i,x_i) + \\sum_{j=1}^I f_j(\\omega_i,x_j) + G(x_i) ; i=\\{1,..,I\\}$$\n",
        "\n",
        "- The surrogate function for *full linearization* (FL) of the initial possibly non convex cost function is defined as a proximal gradient procedure: $$\\tilde{f_i}(x_i|x_i[n])= f_i(x_i[n]) + \\nabla f_i(x_i[n])(x_i - x_i[n]) + \\frac{\\tau}{2}||x_i - x_i[n] ||$$\n",
        "That solved in closed form produces:\n",
        "$$\\nabla_{x} \\tilde{F}(x^k|x_i[n])=0 \\\\\n",
        "\\nabla_{x}F(x_i[n]) + \\tau(x^k-x_i[n])=0 \\\\\n",
        "x^{k+1}= x^k - \\frac{1}{\\tau} \\nabla F(x_i[n])$$\n",
        "\n",
        "- Best Response map aims to approximate for each agent $i^{th}$:\n",
        "$$ \\hat{x_i}(x_i[n]) = argmin_{x_i[n] \\in K} \\tilde{f_i}(x_i|x_i[n]) + (x_i-x_i[n]) \\sum_{j \\neq i} ^N \\nabla_x f_j(x_i[n]) $$\n",
        "\n",
        "- Convex smooth combination:\n",
        "$$ x_i^{k+1} = (1-\\gamma^k)x_i + \\gamma^k(\\hat{x_i}(y^k)) $$\n",
        "\n",
        "The main idea is to develop a gradient tracking method to implement a fully distributed framework where $\\sum_{j \\neq i} ^N \\nabla_x f_j(x_i[n])$, that is not distributed since anget $i$ need the knowledge of all $j^{}th$ agents gadients; \\\n",
        "Furthermore, the use of dynamic consensus to update the\n",
        " objective functions of users' subproblems is a novel idea\n",
        " (introduced for the first time in \"NEXT-Di Lorenzo & Scutari\"), which makes the proposed scheme convergent even in the case of nonconvex\n",
        " $F$'s.\n",
        "\n",
        "\n",
        "## BIO-L-NEXT Algorithm\n",
        "COMPLETARE E RIVEDERE QUESTO RIASSUNTO DEL METODO"
      ]
    },
    {
      "cell_type": "code",
      "execution_count": 12,
      "metadata": {
        "id": "t4zU5CxoEb2S"
      },
      "outputs": [],
      "source": [
        "def flatten_param(model, input=None):  # Highlight that you need to pass the\n",
        "                                       # client class and their model (agents.models) as input!\n",
        "    flattened_params = []\n",
        "    if input == None:\n",
        "      for n,p in model.items():\n",
        "        flattened_params.append(p.view(-1))\n",
        "    elif input == \"model\":\n",
        "      for param in model.parameters():\n",
        "        flattened_params.append(param.view(-1))  # Flatten the parameter and add to list\n",
        "\n",
        "    flattened_vector = torch.cat(flattened_params)  # Concatenate all flattened parameters into a single vector 1D\n",
        "    return flattened_vector\n",
        "\n",
        "\n",
        "def get_diffusion(Laplacian):\n",
        "    eigv, _ = torch.linalg.eig(torch.tensor(Laplacian,  dtype=torch.float32))\n",
        "    eps = np.random.uniform(0, (2/torch.max(eigv.real).item()))\n",
        "    #eps = (2/torch.max(eigv.real).item())/100\n",
        "    #print(f\"Learning rate is equal to {round(eps,8)}\")\n",
        "    W = torch.eye(num_agents) - eps * Laplacian\n",
        "    return W, eps\n",
        "\n",
        "#Define attraction repulsion function\n",
        "def g(x, z, pie):\n",
        "    y = (flatten_param(x))-(flatten_param(z))\n",
        "    return pie[0]-pie[1]*(-torch.norm(y, p=2)/pie[2])\n",
        "\n",
        "def reshape_flattened_gradients(flattened_gradients, model):\n",
        "    reshaped_gradients = {}\n",
        "    pointer = 0\n",
        "    for name, param in model.named_parameters():\n",
        "        param_shape = param.shape\n",
        "        param_size = param.numel()  # Total number of elements in the parameter tensor\n",
        "        # Extract the portion of flattened gradients corresponding to this parameter\n",
        "        reshaped_grad = flattened_gradients[pointer:pointer + param_size].view(param_shape)\n",
        "       # Store the reshaped gradient in the dictionary\n",
        "        reshaped_gradients[name] = reshaped_grad.clone().detach()\n",
        "        # Move the pointer to the next set of gradients\n",
        "        pointer += param_size\n",
        "    return reshaped_gradients\n",
        "\n",
        "# Agents class for federated learning\n",
        "class Agents:\n",
        "    def __init__(self, train_loaders, val_loaders, test_loader, num_agents, pie=[], tau = None, epochs=2, epsilon=0.8, gamma_zero=0.5, iterations = None):\n",
        "        self.K = iterations\n",
        "        self.pie = pie\n",
        "        self.train_loaders = train_loaders\n",
        "        self.val_loaders = val_loaders\n",
        "        self.test_loader = test_loader\n",
        "        self.num_agents = num_agents\n",
        "        self.epochs = epochs\n",
        "        self.W, self.learning_rate = get_diffusion(L)[0], get_diffusion(L)[1]\n",
        "        self.gamma_values =[gamma_zero] #gamma[0]< 1/eps\n",
        "        self.models = [Net() for _ in range(num_agents)]\n",
        "        self.optimizers = [optim.SGD(model.parameters(), lr= 1/tau ) for model in self.models]\n",
        "        self.criterion = nn.CrossEntropyLoss()\n",
        "        self.validation_accuracies = {i: 0 for i in range(num_agents)}  # Dictionary to store validation accuracies\n",
        "        self.losses = {i: [] for i in range(num_agents)}  # Dictionary to store losses\n",
        "        self.previous_response = [\n",
        "            {k: torch.zeros_like(p) for k, p in self.models[0].state_dict().items()}\n",
        "            for _ in range(self.num_agents)\n",
        "        ] #store parameters initializations and previous weights iteratively\n",
        "\n",
        "        self.actual_grads = [\n",
        "            {k: torch.zeros_like(p) for k, p in self.models[0].state_dict().items()}\n",
        "            for _ in range(self.num_agents)\n",
        "        ]\n",
        "        # Initialize Y[0], Z[0], pie_tilde[0] as lists of dictionaries\n",
        "        self.Y = [\n",
        "            {k: torch.zeros_like(p) for k, p in self.models[0].state_dict().items()}\n",
        "            for _ in range(self.num_agents)\n",
        "        ]\n",
        "        self.pie_tilde = [\n",
        "            {k: torch.zeros_like(p) for k, p in self.models[0].state_dict().items()}\n",
        "            for _ in range(self.num_agents)\n",
        "        ]\n",
        "        self.Z = [\n",
        "            {k: torch.zeros_like(p) for k, p in self.models[0].state_dict().items()}\n",
        "            for _ in range(self.num_agents)\n",
        "        ]\n",
        "        self.next_grads = [\n",
        "            {k: torch.zeros_like(p) for k, p in self.models[0].state_dict().items()}\n",
        "            for _ in range(self.num_agents)\n",
        "        ]\n",
        "        self.stopping_condition = [{agent:[]} for agent in range(self.num_agents)]\n",
        "\n",
        "\n",
        "    def gamma_update(self, epsilon=0.8): #updating step size rule\n",
        "        gamma_next = self.gamma_values[-1]*(1-(epsilon*self.gamma_values[-1])) #gamma[0] < 1/eps and eps in (0,1])\n",
        "        self.gamma_values.append(gamma_next)\n",
        "\n",
        "\n",
        "    def plot_losses(self):\n",
        "        for agent_idx in range(self.num_agents):\n",
        "            plt.plot(self.losses[agent_idx], label=f'Agent {agent_idx}')\n",
        "        plt.xlabel('Epochs')\n",
        "        plt.ylabel('Loss')\n",
        "        plt.ylim(0,2.5)\n",
        "        #plt.xlim(0,15)\n",
        "        plt.title('NEXT System Loss behaviour')\n",
        "        plt.legend()\n",
        "        plt.show()\n",
        "\n",
        "\n",
        "    def initialize_agents(self):\n",
        "        \"\"\"\n",
        "        Initialize agents' models and variables.\n",
        "        \"\"\"\n",
        "        #wk = Net().state_dict()\n",
        "        for i in range(self.num_agents):\n",
        "            wk = Net().state_dict()\n",
        "            self.previous_response[i] = wk #store feasible initializations\n",
        "            w_previous = self.models[i].state_dict()\n",
        "            # Initialize model parameters to wk\n",
        "            for name, param in self.models[i].named_parameters():\n",
        "                if name in wk:\n",
        "                    param.data = wk[name].clone()\n",
        "            self.models[i].train()\n",
        "            optimizer = self.optimizers[i]\n",
        "            #Compute difference among current iterate and previous response variable (x_i - x[n])\n",
        "            difference = [(w_prev-wk) for (n1,w_prev),(n2,wk) in zip(w_previous.items(), self.models[i].state_dict().items())] #computye and flat difference among w_prev and wk\n",
        "            difference_flatten = torch.cat([diff.view(-1) for diff in difference])\n",
        "            all_batch_gradients = []\n",
        "            for inputs, labels in self.train_loaders[i]:\n",
        "                outputs = self.models[i](inputs)\n",
        "                loss = self.criterion(outputs, labels)\n",
        "                optimizer.zero_grad()\n",
        "                gradients = torch.autograd.grad(loss, self.models[i].parameters(), retain_graph=True)\n",
        "                pie_flatten = torch.cat([grad.view(-1) for grad in gradients])\n",
        "                all_batch_gradients.append(pie_flatten.clone().detach())  #initialize y_i[k] as ∇f_i[0]\n",
        "                # Surrogate loss\n",
        "                loss_surrogate = loss.clone().detach().requires_grad_(True) + torch.matmul(pie_flatten, difference_flatten)\n",
        "                loss_surrogate.backward()\n",
        "                optimizer.step()\n",
        "            # Update Z\n",
        "            # for name, param in self.Z[i].items():\n",
        "            #     self.Z[i][name] += w_previous[name] + ( self.gamma_values[-1] * (w_previous[name] - wk[name]) )\n",
        "            # Update Y[0]= ∇f_i(w_i[0])\n",
        "            self.Y[i] = torch.mean(torch.stack(all_batch_gradients), dim=0) #gradients mean of batches (not of agents!)\n",
        "            self.pie_tilde[i] = torch.mul(self.Y[i], self.num_agents) - torch.mean(torch.stack(all_batch_gradients), dim=0)\n",
        "            #self.gamma_update()\n",
        "#-------------------------------------------------------------------------------\n",
        "    def run_iterations(self, tolerance = 1e-2):\n",
        "        \"\"\"\n",
        "        Run K iterations of the NEXT algorithm.\n",
        "        Step 1: Local Updates leveraging SCA optimization\n",
        "                Convex smooth with diminishing gamma step size rule\n",
        "        Step 2: Consensus Step to update model paramters\n",
        "        Step 3: Local Variables Updates\n",
        "        \"\"\"\n",
        "\n",
        "        diff = {k: torch.zeros_like(p) for k, p in self.models[0].state_dict().items()}\n",
        "\n",
        "        for k in tqdm(range(self.K),desc= \"Processing NEXT training with neighborhood\"):\n",
        "            # Step 1\n",
        "            for i in range(self.num_agents):\n",
        "\n",
        "                optimizer = self.optimizers[i]\n",
        "                wk = copy.deepcopy(self.models[i].state_dict()) #run this after initialization menas that agent model\n",
        "                                                                #already have feasible initialization of model parameters\n",
        "                all_batch_gradients = []\n",
        "                #Run the surrogate optimization and update parameters with best response map procedure\n",
        "                #BEST RESPONSE MAP\n",
        "                running_loss = 0.0\n",
        "                for inputs, labels in self.train_loaders[i]:\n",
        "                    outputs = self.models[i](inputs)\n",
        "                    loss = self.criterion(outputs, labels)\n",
        "                    optimizer.zero_grad()\n",
        "                    gradients = torch.autograd.grad(loss, self.models[i].parameters(), retain_graph=True)\n",
        "                    pie_flatten = torch.cat([grad.view(-1) for grad in gradients])\n",
        "                    all_batch_gradients.append(pie_flatten.clone().detach())\n",
        "                    # Surrogate loss\n",
        "                    difference_flatten = flatten_param(self.models[i], input=\"model\") - ( torch.cat([p.view(-1) for n,p in self.previous_response[i].items()])  )\n",
        "                    #print(difference_flatten)\n",
        "                    loss_surrogate = loss.clone().requires_grad_(True) + torch.matmul(pie_flatten, difference_flatten).requires_grad_(True)\n",
        "                    # print(torch.matmul(pie_flatten, difference_flatten))\n",
        "                    running_loss += loss_surrogate.item()\n",
        "                    loss_surrogate.backward()\n",
        "                    optimizer.step() #best response map update x_hat\n",
        "\n",
        "                # Update Z as the convex combination (smooth)\n",
        "                diff = 0\n",
        "                for name, p in self.Z[i].items():\n",
        "                    self.Z[i][name] = wk[name] +  torch.mul( (self.models[i].state_dict()[name] - wk[name]), self.gamma_values[-1] )\n",
        "                    diff += torch.sum(self.models[i].state_dict()[name] - wk[name])\n",
        "                print(f\"Difference equal to {diff}\")\n",
        "\n",
        "                # print(f\"∥x_hat(xk) − x[k] ∥ = {diff} for agent {i}\")\n",
        "                #store gradients of the current iteration;\n",
        "                self.actual_grads[i] = torch.mean(torch.stack(all_batch_gradients), dim=0)\n",
        "                #store loss function\n",
        "                avg_loss = running_loss / len(self.train_loaders[i])\n",
        "                self.losses[i].append(avg_loss)\n",
        "\n",
        "            # Step 2: Consensus Step to update model params\n",
        "            for i in range(self.num_agents):\n",
        "                updated_state_dict = {k: torch.zeros_like(p) for k, p in self.models[i].state_dict().items()}\n",
        "                grads_passing = {k: torch.zeros_like(p) for k, p in self.models[i].state_dict().items()}\n",
        "                for j in range(self.num_agents):\n",
        "                  for (name1, w_i), (name2, z_i) in zip(updated_state_dict.items(), self.Z[j].items()):\n",
        "                    g_bio = g(self.Z[i], self.Z[j], self.pie).type(z_i.dtype)\n",
        "                    updated_state_dict[name1] +=torch.mul( z_i, g_bio) * self.W[i][j]  # Accumulate contributions from each j with attraction-repulsion function\n",
        "\n",
        "                #print(updated_state_dict)\n",
        "                # Load updated state dict\n",
        "                self.models[i].load_state_dict(updated_state_dict)\n",
        "                self.previous_response[i] = updated_state_dict #load the consensus based update in the previous\n",
        "                                                               # response variable;\n",
        "\n",
        "                # Compute next gradients\n",
        "                all_batch_gradients = []\n",
        "                for inputs, labels in self.train_loaders[i]:\n",
        "                    outputs = self.models[i](inputs)\n",
        "                    loss = self.criterion(outputs, labels)\n",
        "                    optimizer = self.optimizers[i]\n",
        "                    optimizer.zero_grad()\n",
        "                    loss.backward(retain_graph=True)\n",
        "                    gradients = torch.autograd.grad(loss, self.models[i].parameters(), retain_graph=True)\n",
        "                    next_grad_flat = torch.cat([grad.view(-1) for grad in gradients])\n",
        "                    all_batch_gradients.append(next_grad_flat)\n",
        "                self.next_grads[i] = torch.mean(torch.stack(all_batch_gradients), dim=0)\n",
        "                #next_grads.append(torch.mean(torch.stack(all_batch_gradients), dim=0))\n",
        "                # Update y_i[k+1]\n",
        "                grads_diff = self.next_grads[i] - self.actual_grads[i]\n",
        "                grads_diff_resh = reshape_flattened_gradients(grads_diff, self.models[i])\n",
        "\n",
        "                for j in range(self.num_agents):\n",
        "                    if j != i:\n",
        "                      y_j = reshape_flattened_gradients( self.Y[j], self.models[0]  ) #reshape in original paramters nn size\n",
        "                      for name,p in y_j.items():\n",
        "                        grads_passing[name] += p*self.W[i][j] #Accumulate contributions from each j^th agent\n",
        "                for  (n1, consensus),(n2, diff) in zip(grads_passing.items(), grads_diff_resh.items()):\n",
        "                    grads_passing[n1] = consensus + diff\n",
        "                self.Y[i] = torch.cat([grad.view(-1) for n,grad in grads_passing.items()])\n",
        "                # Update pie_tilde\n",
        "                self.pie_tilde[i] = torch.mul(self.Y[i], self.num_agents ) - self.next_grads[i]\n",
        "\n",
        "            #check convergence\n",
        "            converged = True\n",
        "            sum_diff=0\n",
        "            i_agent = flatten_param(self.models[0], input=\"model\")\n",
        "            for j_agent in range(0,self.num_agents):\n",
        "              sum_diff += torch.sum(i_agent - flatten_param(self.models[j_agent], input=\"model\"))\n",
        "            avg_diff = torch.abs(sum_diff / (self.num_agents-1) )\n",
        "            print(f\" \\n Average params difference equal to {avg_diff}\")\n",
        "            #if (k + 1) % 20 == 0:\n",
        "            #print(f\"Difference at iteration {k} is equal to {torch.abs(sum_diff)} for agent 0 and {j_agent}\")\n",
        "            if torch.abs(avg_diff) >= tolerance:\n",
        "              converged = False\n",
        "            if converged==True:\n",
        "             print(f\"Convergence reached in {k} iterations.\")\n",
        "             break\n",
        "\n",
        "            # Update gamma\n",
        "            self.gamma_update()\n",
        "            #refresh gradients variables\n",
        "            self.actual_grads = self.next_grads = [\n",
        "                {k: torch.zeros_like(p) for k, p in self.models[0].state_dict().items()}\n",
        "                for _ in range(self.num_agents)\n",
        "            ]\n",
        "            self.next_grads = [\n",
        "                {k: torch.zeros_like(p) for k, p in self.models[0].state_dict().items()}\n",
        "                for _ in range(self.num_agents)\n",
        "            ]\n",
        "\n",
        "\n",
        "    def NEXT_train(self, tolerance=None):\n",
        "        \"\"\"\n",
        "        Execute the full SCA training process.\n",
        "        \"\"\"\n",
        "        self.initialize_agents()\n",
        "        self.run_iterations(tolerance)\n",
        "        self.plot_losses()\n",
        "\n",
        "\n",
        "    def test_agent(self, agent_idx):\n",
        "        model = self.models[agent_idx]\n",
        "        test_loader = self.test_loader\n",
        "        model.eval()\n",
        "\n",
        "        correct = 0\n",
        "        total = 0\n",
        "        with torch.no_grad():\n",
        "            for inputs, labels in test_loader:\n",
        "                outputs = model(inputs)\n",
        "\n",
        "                _, predicted = torch.max(outputs.data, 1)\n",
        "                total += labels.size(0)\n",
        "                correct += (predicted == labels).sum().item()\n",
        "\n",
        "        test_accuracy = correct / total\n",
        "        print(f'Agent {agent_idx}  Test Accuracy: {round(test_accuracy * 100, 2)}% ')\n",
        "\n",
        "        return test_accuracy\n"
      ]
    },
    {
      "cell_type": "code",
      "execution_count": 7,
      "metadata": {
        "id": "I2xJyh1kwWCB"
      },
      "outputs": [],
      "source": [
        "# pie_1_values = [1.0]\n",
        "# pie_2_values = np.linspace(0.0, 0.5, 10).tolist()\n",
        "# pie_3_values = [10]\n",
        "\n",
        "# # Use itertools.product to generate all combinations of these values\n",
        "# pie_grid = list(itertools.product(pie_1_values, pie_2_values, pie_3_values))\n",
        "# best_acc = 0.0\n",
        "# best_pie=None\n",
        "\n",
        "# for pi in pie_grid:\n",
        "#   print(f\"Evaluating params {pi}\")\n",
        "#   system = Agents(train_loaders, val_loaders, test_loader, num_agents, iterations=100, pie=pi)\n",
        "#   print(f\"Learning rate that respect diffusion conensus (W=I-εL) is {system.learning_rate}\")\n",
        "#   stop_iteration = system.NEXT_train(tolerance=1e-2)\n",
        "\n",
        "#   print(\"Test accuracy after aggregation process\")\n",
        "#   test_acc = system.test_agent(0)\n",
        "#   if test_acc>best_acc:\n",
        "#     best_acc = test_acc\n",
        "#     best_pie = pi\n",
        "# print(f\"Best pie is {best_pie} with accuracy {best_acc}\")"
      ]
    },
    {
      "cell_type": "code",
      "execution_count": null,
      "metadata": {
        "colab": {
          "base_uri": "https://localhost:8080/"
        },
        "collapsed": true,
        "id": "beVywsT5HWU5",
        "outputId": "b461e162-0706-4071-b4e9-8b8b4428e562"
      },
      "outputs": [
        {
          "name": "stderr",
          "output_type": "stream",
          "text": [
            "\rProcessing NEXT training with neighborhood:   0%|          | 0/5 [00:00<?, ?it/s]"
          ]
        },
        {
          "name": "stdout",
          "output_type": "stream",
          "text": [
            "Difference equal to -1.3845725059509277\n",
            "Difference equal to -0.05341468006372452\n",
            "Difference equal to -0.04584247246384621\n",
            "Difference equal to -0.039320096373558044\n",
            "Difference equal to -1.0537323951721191\n",
            "Difference equal to 0.21546243131160736\n",
            "Difference equal to 0.05087755620479584\n",
            "Difference equal to -0.036480918526649475\n",
            "Difference equal to -0.025043485686182976\n",
            "Difference equal to -0.09118062257766724\n"
          ]
        },
        {
          "name": "stderr",
          "output_type": "stream",
          "text": [
            "\rProcessing NEXT training with neighborhood:  20%|██        | 1/5 [00:15<01:03, 16.00s/it]"
          ]
        },
        {
          "name": "stdout",
          "output_type": "stream",
          "text": [
            "Stopping value:0.009118062444031239\n",
            " \n",
            " Average params difference equal to 2.6855196952819824\n",
            "Difference equal to -0.5237858295440674\n",
            "Difference equal to -0.029622459784150124\n",
            "Difference equal to -0.035099096596241\n",
            "Difference equal to -0.03432061895728111\n",
            "Difference equal to -0.38773155212402344\n",
            "Difference equal to 0.18540529906749725\n",
            "Difference equal to 0.03189646080136299\n",
            "Difference equal to -0.026476135477423668\n",
            "Difference equal to -0.0019889231771230698\n",
            "Difference equal to -0.07323754578828812\n"
          ]
        },
        {
          "name": "stderr",
          "output_type": "stream",
          "text": [
            "\rProcessing NEXT training with neighborhood:  40%|████      | 2/5 [00:32<00:48, 16.08s/it]"
          ]
        },
        {
          "name": "stdout",
          "output_type": "stream",
          "text": [
            "Stopping value:0.007323754485696554\n",
            " \n",
            " Average params difference equal to 1.528389573097229\n",
            "Difference equal to -0.2248922884464264\n",
            "Difference equal to -0.016768623143434525\n",
            "Difference equal to -0.029832366853952408\n",
            "Difference equal to -0.03004767745733261\n",
            "Difference equal to -0.21661360561847687\n",
            "Difference equal to 0.16318055987358093\n",
            "Difference equal to 0.0208304263651371\n",
            "Difference equal to -0.018511546775698662\n",
            "Difference equal to -0.002389230765402317\n",
            "Difference equal to -0.06203284487128258\n"
          ]
        },
        {
          "name": "stderr",
          "output_type": "stream",
          "text": [
            "\rProcessing NEXT training with neighborhood:  60%|██████    | 3/5 [00:49<00:33, 16.57s/it]"
          ]
        },
        {
          "name": "stdout",
          "output_type": "stream",
          "text": [
            "Stopping value:0.006203284487128258\n",
            " \n",
            " Average params difference equal to 0.5046598315238953\n",
            "Difference equal to -0.09989237785339355\n",
            "Difference equal to -0.010580467991530895\n",
            "Difference equal to -0.02278691530227661\n",
            "Difference equal to -0.02731313742697239\n",
            "Difference equal to 0.024556031450629234\n",
            "Difference equal to 0.14036019146442413\n",
            "Difference equal to 0.009700902737677097\n",
            "Difference equal to -0.011139215901494026\n",
            "Difference equal to -0.012297721579670906\n",
            "Difference equal to -0.05452270060777664\n"
          ]
        }
      ],
      "source": [
        "import time\n",
        "start_time = time.time()\n",
        "\n",
        "system = Agents(train_loaders, val_loaders, test_loader, num_agents, iterations=5, pie=[1.0,0.0,10], tau = 1e4, gamma_zero=0.5)\n",
        "#print(f\"Learning rate that respect diffusion conensus (W=I-εL) is {system.learning_rate}\")\n",
        "system.NEXT_train(tolerance=1e-2)\n",
        "\n",
        "end_time = time.time()\n",
        "print(f\"Time taken: {round((end_time - start_time) / 60,2)} minutes \")"
      ]
    },
    {
      "cell_type": "code",
      "execution_count": 11,
      "metadata": {
        "colab": {
          "base_uri": "https://localhost:8080/"
        },
        "id": "kVfUcy9JB1qR",
        "outputId": "14cbd053-04e0-45c4-b470-958c7428f776"
      },
      "outputs": [
        {
          "name": "stdout",
          "output_type": "stream",
          "text": [
            "Agent 0  Test Accuracy: 24.53% \n",
            "Agent 1  Test Accuracy: 16.93% \n",
            "Agent 2  Test Accuracy: 19.67% \n",
            "Agent 3  Test Accuracy: 15.67% \n",
            "Agent 4  Test Accuracy: 18.53% \n",
            "Agent 5  Test Accuracy: 21.4% \n",
            "Agent 6  Test Accuracy: 20.67% \n",
            "Agent 7  Test Accuracy: 16.53% \n",
            "Agent 8  Test Accuracy: 16.8% \n",
            "Agent 9  Test Accuracy: 16.6% \n"
          ]
        }
      ],
      "source": [
        "for agent in range(system.num_agents):\n",
        "    system.test_agent(agent) #se output è runnato"
      ]
    },
    {
      "cell_type": "code",
      "execution_count": null,
      "metadata": {
        "colab": {
          "base_uri": "https://localhost:8080/"
        },
        "id": "KJzHyKJXTu-S",
        "outputId": "bf8a5e3e-ecc0-453d-d65c-cafb48bcea59"
      },
      "outputs": [],
      "source": [
        "system.models[0].state_dict()"
      ]
    },
    {
      "cell_type": "markdown",
      "metadata": {
        "id": "doOrJQOlED1f"
      },
      "source": [
        "# Codice senza classi"
      ]
    },
    {
      "cell_type": "code",
      "execution_count": null,
      "metadata": {
        "id": "J898q3MAibET"
      },
      "outputs": [],
      "source": [
        "#NOW NEED TO TEST THE MODEL"
      ]
    },
    {
      "cell_type": "code",
      "execution_count": null,
      "metadata": {
        "collapsed": true,
        "id": "nuK9ZCR71dRk"
      },
      "outputs": [],
      "source": [
        "s = Agents(train_loaders, val_loaders, test_loader, num_agents, epochs=2)\n",
        "\n",
        "# Initializations\n",
        "wk = Net().state_dict()\n",
        "pie_tilde =  [{agent:[]} for agent in range(s.num_agents)]\n",
        "Z = [{agent:[]} for agent in range(s.num_agents)]\n",
        "Y = [{agent:[]} for agent in range(s.num_agents)]\n",
        "\n",
        "for i in range(s.num_agents):\n",
        "    z_k = {k: torch.zeros_like(p) for k, p in wk.items()}\n",
        "    w_previous = s.models[i].state_dict()\n",
        "\n",
        "    for name, param in s.models[i].named_parameters(): #Attention load_state_dict() method doesn't works , manually uopdate here\n",
        "     if name in wk:\n",
        "        param.data = wk[name].clone()\n",
        "    s.models[i].train()\n",
        "    optimizer = s.optimizers[i]\n",
        "    #Compute difference among current iterate and previous response variable (x_i - x[n])\n",
        "    difference = [(w_prev-wk) for (n1,w_prev),(n2,wk) in zip(w_previous.items(), s.models[i].state_dict().items())] #computye and flat difference among w_prev and wk\n",
        "    difference_flatten = torch.cat([diff.view(-1) for diff in difference])\n",
        "    all_batch_gradients = []\n",
        "    print(f\"AGENT {i}\")\n",
        "    print(s.models[i].state_dict())\n",
        "    for inputs, labels in s.train_loaders[i]:\n",
        "        outputs_i = s.models[i](inputs)\n",
        "        loss_i = s.criterion(outputs_i, labels)  # Surrogate loss for agent i solved in closed form\n",
        "\n",
        "        optimizer.zero_grad()  # Clear previous gradients\n",
        "        # Save gradients and flat them in 1D object (we need this to perfom multiplication with difference)\n",
        "        gradients = torch.autograd.grad(loss_i, s.models[i].parameters(), retain_graph=True)\n",
        "        # for name, grad in zip(s.models[i].state_dict().keys(), gradients):\n",
        "        #     y_zero[i][name] += grad.clone().detach()\n",
        "\n",
        "        pie_flatten = torch.cat([grad.view(-1) for grad in gradients ])\n",
        "        all_batch_gradients.append(pie_flatten.clone().detach()) #initialize y_i[k] as ∇f_i[0]\n",
        "        # Add pi_flatten^T * diff_flat to the surrogate loss\n",
        "        loss_surrogate = loss_i.clone().requires_grad_(True)  + torch.matmul(pie_flatten, difference_flatten).requires_grad_(True)\n",
        "        loss_surrogate.backward()  # Compute gradients\n",
        "        optimizer.step()  # Update model parameters\n",
        "    print(\"-----------------\")\n",
        "    print(s.models[i].state_dict())\n",
        "    # Update convex combination z_i[k] variable:\n",
        "    for n, p in z_k.items():\n",
        "        z_k[n] += w_previous[n] + 0.5 * (w_previous[n] - wk[n])  # Update rule with gamma\n",
        "    Z[i]= z_k\n",
        "    Y[i] = torch.mean(torch.stack(all_batch_gradients), dim=0) #gradients mean of batches (not of agents!)"
      ]
    },
    {
      "cell_type": "code",
      "execution_count": null,
      "metadata": {
        "colab": {
          "base_uri": "https://localhost:8080/"
        },
        "id": "JRg3zMJW0gDL",
        "outputId": "bc21777a-72fc-41ff-e04d-385fd4d0de0d"
      },
      "outputs": [
        {
          "data": {
            "text/plain": [
              "tensor([-0.0156, -0.0333, -0.0230,  ..., -0.0034, -0.0289,  0.0065])"
            ]
          },
          "execution_count": 78,
          "metadata": {},
          "output_type": "execute_result"
        }
      ],
      "source": [
        "Y[0]"
      ]
    },
    {
      "cell_type": "code",
      "execution_count": null,
      "metadata": {
        "id": "pZhO47CeTso9"
      },
      "outputs": [],
      "source": [
        "new_state_dict = []\n",
        "next = []\n",
        "\n",
        "diff = [{k: torch.zeros_like(p) for k, p in s.models[0].state_dict().items()} for _ in range(s.num_agents)]\n",
        "for i in range(s.num_agents):\n",
        "    #Updates of local variables\n",
        "    # W[k+1]:\n",
        "    updated_state_dict = {k: torch.zeros_like(p) for k, p in s.models[i].state_dict().items()} #updated weights\n",
        "    grads_passing = {k: torch.zeros_like(p) for k, p in s.models[i].state_dict().items()} #consensus among diffusion matrix and y_j[k]\n",
        "\n",
        "    for j in range(s.num_agents):\n",
        "      for (name1, w_i), (name2, z_i) in zip(updated_state_dict.items(), Z[j].items()):\n",
        "          g_bio = g(s.Z[i], s.Z[j], [1,.25,10]).type(z_i.dtype)\n",
        "          updated_state_dict[name1] +=torch.mul( z_i, g_bio) * s.W[i][j]  # Accumulate contributions from each j\n",
        "      #print(f\"Agents: {i,j} with bio coefficient {g_bio}\")\n",
        "    # print(f\"Agent {i}\")\n",
        "    # print(updated_state_dict)\n",
        "\n",
        "    # Load the updated state dictionary back into model i\n",
        "    # for (n1,upd),(n2,prev) in zip(updated_state_dict.items() , s.models[i].state_dict().items()):\n",
        "    #   diff[i][n1] += upd - prev\n",
        "\n",
        "    # new_state_dict.append(updated_state_dict)\n",
        "    # s.models[i].load_state_dict(updated_state_dict)\n",
        "    # for inputs, labels in s.train_loaders[i]:\n",
        "    #     outputs_i = s.models[i](inputs)\n",
        "    #     loss_nextiter = s.criterion(outputs_i, labels)  # Surrogate loss for agent i solved in closed form\n",
        "\n",
        "    #     optimizer.zero_grad()  # Clear previous gradients\n",
        "    #     loss_nextiter.backward(retain_graph=True)  # Compute gradients of iteration [k+1]\n",
        "    #     # Save gradients\n",
        "    #     next_gradients = torch.autograd.grad(loss_nextiter, s.models[i].parameters(), retain_graph=True)\n",
        "    #     next_grad_flat = torch.cat([grad.view(-1) for grad in next_gradients ])\n",
        "    # next.append(torch.mean(torch.stack(all_batch_gradients), dim=0))\n",
        "    # #y[k+1]:\n",
        "    # grads_diff = Y[i] -next_grad_flat[i]\n",
        "    # grads_diff_resh = reshape_flattened_gradients(grads_diff, s.models[i]) #reshape in orginal parameters size\n",
        "    # print(grads_diff_resh)\n",
        "    # for j in range(s.num_agents):\n",
        "    #     if j != i:\n",
        "    #       y_k_ = reshape_flattened_gradients(Y[j], s.models[j])\n",
        "    #       for name, p in y_k_.items():\n",
        "    #         grads_passing[name] += p * s.W[i][j]  # Accumulate contributions from each j\n",
        "    # for (n1, grad),(n2, diff) in zip(grads_passing.items(), grads_diff_resh.items()):\n",
        "    #   grads_passing[n1] = grad + diff\n",
        "    # Y[i] = torch.cat([grad.view(-1) for n,grad in grads_passing.items() ]) #update y_i[k+1]\n",
        "\n",
        "\n",
        "    # # pie_tilde[k]:\n",
        "    # pie_tilde[i] = Y[i] - next[i]\n"
      ]
    },
    {
      "cell_type": "code",
      "execution_count": null,
      "metadata": {
        "colab": {
          "base_uri": "https://localhost:8080/"
        },
        "id": "cqXdmXJnI9tK",
        "outputId": "a706038c-ac22-48bd-cdcb-cf44e3fe2a7c"
      },
      "outputs": [
        {
          "data": {
            "text/plain": [
              "[tensor([-0.4466, -0.4068, -0.1043,  ..., -0.1398, -0.4319, -0.2688]),\n",
              " tensor([0.6895, 0.6224, 0.5876,  ..., 0.2100, 0.3751, 0.3143]),\n",
              " tensor([-0.2062, -0.2847, -0.2279,  ..., -0.0200,  0.1171, -0.2126]),\n",
              " tensor([2.0243, 2.0186, 1.8945,  ..., 0.5287, 1.3302, 0.8262]),\n",
              " tensor([-0.1963,  0.0836,  0.1435,  ..., -0.1159, -0.0439, -0.0503]),\n",
              " tensor([-0.8225, -0.4581, -0.3458,  ..., -0.6218, -0.3131, -0.3138]),\n",
              " tensor([-0.0614, -0.0961, -0.1151,  ...,  0.0575, -0.0534, -0.1652]),\n",
              " tensor([2.0401, 1.1129, 0.0718,  ..., 0.5995, 0.7635, 0.7039]),\n",
              " tensor([ 1.5397,  0.6460,  0.2590,  ...,  0.0363,  0.1882, -0.0502]),\n",
              " tensor([-0.0020, -0.0067, -0.0045,  ...,  0.2673, -0.0460, -0.0765])]"
            ]
          },
          "execution_count": 97,
          "metadata": {},
          "output_type": "execute_result"
        }
      ],
      "source": [
        "pie_tilde"
      ]
    }
  ],
  "metadata": {
    "accelerator": "GPU",
    "colab": {
      "collapsed_sections": [
        "9aOIoKi7mjCG",
        "lPhJ_wwumW3S",
        "doOrJQOlED1f"
      ],
      "gpuType": "T4",
      "provenance": []
    },
    "kernelspec": {
      "display_name": "Python 3",
      "name": "python3"
    },
    "language_info": {
      "codemirror_mode": {
        "name": "ipython",
        "version": 3
      },
      "file_extension": ".py",
      "mimetype": "text/x-python",
      "name": "python",
      "nbconvert_exporter": "python",
      "pygments_lexer": "ipython3",
      "version": "3.12.4"
    }
  },
  "nbformat": 4,
  "nbformat_minor": 0
}
